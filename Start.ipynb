{
 "cells": [
  {
   "cell_type": "markdown",
   "id": "81cede76-2b0a-4618-839c-84a435120ca8",
   "metadata": {
    "jp-MarkdownHeadingCollapsed": true,
    "tags": []
   },
   "source": [
    "# 실습 목표  \n",
    "\n",
    "main.ipynb를 작성하여 eval dataset에 대해서 score 달성  \n",
    "\n",
    "\n",
    "# 시작하기   \n",
    "**_[Run]_** 항목은 추가 구현 없이 실행      \n",
    "**_[Run]_** 항목은 구현 하여 실행  \n",
    "**_[Option]_** 항목은 필수적으로 구현할 필요는 없으나 필요시 구현  \n",
    "\n",
    "\n",
    "### clean 데이터\n",
    "+ [AI HUB 한국어 음성 데이터](https://aihub.or.kr/aihubdata/data/view.do?currMenu=115&topMenu=100&aihubDataSe=realm&dataSetSn=123)  \n",
    "2명의 화자가 특정 주제에 대해서 자유롭게 발화하는 데이터셋  \n",
    "\n",
    "### noise 데이터\n",
    "+ [CHiME4 background noises](https://spandh.dcs.shef.ac.uk/chime_challenge/CHiME4/data.html#Backgrounds)의 STR  \n",
    "특정 장소(STR : 길가)에서 장시간 녹음한 잡음 데이터  \n"
   ]
  },
  {
   "cell_type": "markdown",
   "id": "a2101008-05e7-408a-be23-b12e6a49df2b",
   "metadata": {
    "tags": []
   },
   "source": [
    "# Data & Code download  \n",
    "\n",
    "## 다운받을 데이터 구성  \n",
    "+ train    \n",
    "    매 학습시 새로 합성하는 on-fly로 진행하기 때문에 clean, noise 파일로 구성\n",
    "+ dev  \n",
    "    train,eval과 겹치지 않는 데이터로 합성된 noisy 데이터  \n",
    "+ eval  \n",
    "    dev,eval과 겹치지 않는 데이터로 합성된 noisy 데이터\n",
    "+ src :   \n",
    "    사용될 코드들  \n",
    "+ **main.ipynb** :    \n",
    "    실습 진행할 jupyer-notebook  "
   ]
  },
  {
   "cell_type": "markdown",
   "id": "c4016855-b7ce-412a-a74c-d837b381bae3",
   "metadata": {},
   "source": [
    "**_[Run]구글 드라이브에서 실습자료 다운로드_**     "
   ]
  },
  {
   "cell_type": "code",
   "execution_count": 3,
   "id": "34a6a96a-4fb9-47fb-b845-cbbb2b7d995e",
   "metadata": {},
   "outputs": [
    {
     "name": "stdout",
     "output_type": "stream",
     "text": [
      "Collecting pystoi\n",
      "  Downloading pystoi-0.3.3.tar.gz (7.0 kB)\n",
      "Requirement already satisfied: numpy in /home/kbh/.conda/envs/dnn/lib/python3.8/site-packages (from pystoi) (1.21.2)\n",
      "Requirement already satisfied: scipy in /home/kbh/.conda/envs/dnn/lib/python3.8/site-packages (from pystoi) (1.7.0)\n",
      "Building wheels for collected packages: pystoi\n",
      "  Building wheel for pystoi (setup.py) ... \u001b[?25ldone\n",
      "\u001b[?25h  Created wheel for pystoi: filename=pystoi-0.3.3-py2.py3-none-any.whl size=7781 sha256=ad3b2776c80650b0169e426194df143f00a3dfe771b5a28dd7e66b8f168682c8\n",
      "  Stored in directory: /home/kbh/.cache/pip/wheels/62/35/75/c07f0861a60fb8aacf44fdd5c8c214a224a6c9edb4a4e1402f\n",
      "Successfully built pystoi\n",
      "Installing collected packages: pystoi\n",
      "Successfully installed pystoi-0.3.3\n",
      "Dataset already downloaded.\n"
     ]
    }
   ],
   "source": [
    "!pip install pystoi\n",
    "\n",
    "from os.path import exists\n",
    "\n",
    "if not exists(\"SE_dataset.tar\") :\n",
    "    !wget --load-cookies /tmp/cookies.txt \"https://docs.google.com/uc?export=download&confirm=$(wget --quiet --save-cookies /tmp/cookies.txt --keep-session-cookies --no-check-certificate 'https://docs.google.com/uc?export=download&id='1hSqrUQWbwv-JmWvSbhsziA6-BwW5wFkV -O- | sed -rn 's/.*confirm=([0-9A-Za-z_]+).*/\\1\\n/p')&id=\"1hSqrUQWbwv-JmWvSbhsziA6-BwW5wFkV -O SE_dataset.tar && rm -rf /tmp/cookies.txt\n",
    "    !tar -xf SE_dataset.tar\n",
    "else : \n",
    "    print(\"Dataset already downloaded.\")"
   ]
  },
  {
   "cell_type": "markdown",
   "id": "24bb89dc-c16d-4922-89f7-fa1d79f792cd",
   "metadata": {},
   "source": [
    "다운로드 후 **main.ipynb** 에서 진행"
   ]
  }
 ],
 "metadata": {
  "kernelspec": {
   "display_name": "Python 3 (ipykernel)",
   "language": "python",
   "name": "python3"
  },
  "language_info": {
   "codemirror_mode": {
    "name": "ipython",
    "version": 3
   },
   "file_extension": ".py",
   "mimetype": "text/x-python",
   "name": "python",
   "nbconvert_exporter": "python",
   "pygments_lexer": "ipython3",
   "version": "3.8.10"
  }
 },
 "nbformat": 4,
 "nbformat_minor": 5
}
